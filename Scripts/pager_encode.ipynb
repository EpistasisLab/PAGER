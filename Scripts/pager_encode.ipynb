{
 "cells": [
  {
   "cell_type": "markdown",
   "metadata": {},
   "source": [
    "## This notebook is used to encode sample genotype datasets using PAGER (Phenotype-Adjusted Genotype Encoding and Ranking)\n",
    "\n",
    "Dataset 1 - Continuous Phenotype  \n",
    "\n",
    "Dataset 2 - Discrete Phenotype"
   ]
  },
  {
   "cell_type": "markdown",
   "metadata": {},
   "source": [
    "### STEP 1 - Import all the required packages"
   ]
  },
  {
   "cell_type": "code",
   "execution_count": 20,
   "metadata": {},
   "outputs": [],
   "source": [
    "import pandas as pd\n",
    "from sklearn.preprocessing import MinMaxScaler"
   ]
  },
  {
   "cell_type": "markdown",
   "metadata": {},
   "source": [
    "### STEP 2 - Define PAGER ENCODING function"
   ]
  },
  {
   "cell_type": "code",
   "execution_count": 65,
   "metadata": {},
   "outputs": [],
   "source": [
    "'''Function definition to encode the genotypes using the PAGER formula\n",
    "    \n",
    "    Input Parameters\n",
    "\n",
    "    ----------------\n",
    "    genotypes : pandas dataframe\n",
    "        A dataframe containing the genotypes of the SNPs. The dataframe should have the SNPs as columns and the samples as rows.\n",
    "    phenotype : pandas series\n",
    "        A series containing the phenotypes of the samples. The series should have the samples as index and the phenotypes as values.\n",
    "\n",
    "    Returns\n",
    "\n",
    "    ----------------\n",
    "    pager_encoded_genotypes : pandas dataframe\n",
    "        A dataframe containing the PAGER encoded genotypes of the SNPs. The dataframe will have the SNPs as columns and the samples as rows.\n",
    "    missing_genotypes_df : pandas dataframe\n",
    "        A dataframe containing the SNPs with missing genotypes. The dataframe will have two columns, SNP_NAME and MISSING_GENOTYPES. The SNP_NAME column will have the SNP names and the MISSING_GENOTYPES column will have the missing genotypes for each SNP.\n",
    "    \n",
    "    '''\n",
    "def pager_encode(genotypes, phenotype):\n",
    "\n",
    "    # Create an empty dataframe to store the PAGER encoded genotypes\n",
    "    pager_encoded_genotypes = pd.DataFrame()\n",
    "\n",
    "    # Create an empty dataframe to store the SNPs with missing genotypes\n",
    "    missing_genotypes_df = pd.DataFrame(columns=['SNP_NAME', 'MISSING_GENOTYPES'])\n",
    "    \n",
    "    # Iterate through the columns of the genotypes dataframe to calculate the PAGER encoding for each SNP\n",
    "    for column in genotypes:\n",
    "\n",
    "        # Extract the single SNP from the genotypes dataframe\n",
    "        snp = genotypes[column]\n",
    "\n",
    "        # Create a dataframe with the single SNP and the phenotype\n",
    "        snp_df = pd.DataFrame({'genotype': snp.astype(float), 'phenotype': phenotype.astype(float)})\n",
    "\n",
    "        # Identify unique genotypic classes, excluding NAs\n",
    "        unique_genotypes = snp_df['genotype'].dropna().unique()\n",
    "\n",
    "        # Check for missing genotypic classes\n",
    "        missing_genotypes = set([0, 1, 2]) - set(unique_genotypes)\n",
    "\n",
    "        # Print the missing genotypes and also add them to a dataframe to output at the end.\n",
    "        if missing_genotypes:\n",
    "            print(f\"Missing genotypes for {snp.name}: {missing_genotypes}\")\n",
    "            snp_missing_genotype_df = pd.DataFrame({'SNP_NAME': [snp.name], 'MISSING_GENOTYPES': [', '.join(map(str, missing_genotypes))]})\n",
    "            missing_genotypes_df = pd.concat([missing_genotypes_df, snp_missing_genotype_df], ignore_index=True)\n",
    "\n",
    "        # Check if only one genotypic class is present\n",
    "        if len(missing_genotypes) == 2:\n",
    "            pager_encoded_genotypes[column] = genotypes[column]\n",
    "            continue\n",
    "            \n",
    "        # Calculate the phenotypic mean per genotypic class\n",
    "        geno_aggregations = snp_df.groupby('genotype').agg(\n",
    "            mean_phenotype = ('phenotype', 'mean')\n",
    "        )\n",
    "\n",
    "        # Add the genotype values to the geno_aggregations dataframe for easy access\n",
    "        geno_aggregations['genotype'] = geno_aggregations.index\n",
    "\n",
    "        # Use the PAGER formula\n",
    "        anchor_mean = geno_aggregations.loc[geno_aggregations['genotype'].idxmin(), 'mean_phenotype'] # anchor = 0 when all three genotypes are present\n",
    "        geno_aggregations['rel_dist'] = (geno_aggregations['mean_phenotype'] - (anchor_mean))\n",
    "\n",
    "        # Use Min-Max normalization on relative distance (rel_dist) to normalize the distance values\n",
    "        scaler = MinMaxScaler()\n",
    "        geno_aggregations['normalized_rel_dist'] = scaler.fit_transform(geno_aggregations['rel_dist'].values.reshape(-1, 1))\n",
    "\n",
    "        # Append the PAGER encoded genotypes to the PAGER dataframe (pager_encoded_genotypes) \n",
    "        pager_encoded_genotypes[column] = genotypes[column].map(geno_aggregations.set_index('genotype')['normalized_rel_dist'])\n",
    "\n",
    "\n",
    "    # Return the PAGER encoded genotypes and the missing genotypes dataframe\n",
    "    return pager_encoded_genotypes, missing_genotypes_df"
   ]
  },
  {
   "cell_type": "markdown",
   "metadata": {},
   "source": [
    "### STEP 3 - PAGER encode Dataset 1 - Continuous Phenotype"
   ]
  },
  {
   "cell_type": "code",
   "execution_count": 69,
   "metadata": {},
   "outputs": [
    {
     "name": "stdout",
     "output_type": "stream",
     "text": [
      "Missing genotypes for SNP4: {0}\n",
      "Missing genotypes for SNP7: {0}\n",
      "Missing genotypes for SNP21: {0}\n",
      "Missing genotypes for SNP22: {0}\n",
      "Missing genotypes for SNP25: {0}\n",
      "Missing genotypes for SNP29: {0}\n",
      "Missing genotypes for SNP33: {0}\n",
      "Missing genotypes for SNP39: {0}\n",
      "Missing genotypes for SNP61: {0, 1}\n",
      "Missing genotypes for SNP86: {0}\n",
      "Missing genotypes for SNP90: {0}\n",
      "Missing genotypes for SNP91: {0}\n",
      "Missing genotypes for SNP93: {0, 1}\n"
     ]
    }
   ],
   "source": [
    "# Read the data from the csv file\n",
    "data_continuous_phenotype = pd.read_csv('/Users/ghosha/Documents/VSCode Projects/pager/data/sample_data_cont.csv')\n",
    "\n",
    "# Extract the genotypes and the phenotype from the data\n",
    "genotype_columns = data_continuous_phenotype.iloc[:,:-1]\n",
    "phenotype = data_continuous_phenotype.iloc[:,-1]\n",
    "\n",
    "# Call the 'pager_encode' function to encode the genotypes using the PAGER formula\n",
    "pager_encoded_genotype, missing_genotypes_df = pager_encode(genotype_columns, phenotype)\n",
    "\n",
    "# Add the phenotype column as the last column to PAGER encoded data (pager_encoded_genotype)\n",
    "pager_encoded_genotype = pd.concat([pager_encoded_genotype, phenotype], axis=1)\n",
    "\n",
    "# Save the PAGER encoded data to a csv file\n",
    "pager_encoded_genotype.to_csv('/Users/ghosha/Documents/VSCode Projects/pager/data/python_sample_data_cont_pager_encoded.csv', index=False)\n",
    "\n",
    "# Save the missing genotypes dataframe to a csv file\n",
    "missing_genotypes_df.to_csv('/Users/ghosha/Documents/VSCode Projects/pager/data/missing_genotypes.csv', index=False)"
   ]
  },
  {
   "cell_type": "markdown",
   "metadata": {},
   "source": [
    "### STEP 4 - PAGER encode Dataset 2 - Discrete Phenotype"
   ]
  },
  {
   "cell_type": "code",
   "execution_count": 68,
   "metadata": {},
   "outputs": [
    {
     "name": "stdout",
     "output_type": "stream",
     "text": [
      "Missing genotypes for SNP4: {0}\n",
      "Missing genotypes for SNP7: {0}\n",
      "Missing genotypes for SNP21: {0}\n",
      "Missing genotypes for SNP22: {0}\n",
      "Missing genotypes for SNP25: {0}\n",
      "Missing genotypes for SNP29: {0}\n",
      "Missing genotypes for SNP33: {0}\n",
      "Missing genotypes for SNP39: {0}\n",
      "Missing genotypes for SNP61: {0, 1}\n",
      "Missing genotypes for SNP86: {0}\n",
      "Missing genotypes for SNP90: {0}\n",
      "Missing genotypes for SNP91: {0}\n",
      "Missing genotypes for SNP93: {0, 1}\n"
     ]
    }
   ],
   "source": [
    "# Read the data from the csv file\n",
    "data_continuous_phenotype = pd.read_csv('/Users/ghosha/Documents/VSCode Projects/pager/data/sample_data_disc.csv')\n",
    "\n",
    "# Extract the genotypes and the phenotype from the data\n",
    "genotype_columns = data_continuous_phenotype.iloc[:,:-1]\n",
    "phenotype = data_continuous_phenotype.iloc[:,-1]\n",
    "\n",
    "# Call the 'pager_encode' function to encode the genotypes using the PAGER formula\n",
    "pager_encoded_genotype, missing_genotypes_df = pager_encode(genotype_columns, phenotype)\n",
    "\n",
    "# Add the phenotype column as the last column to PAGER encoded data (pager_encoded_genotype)\n",
    "pager_encoded_genotype = pd.concat([pager_encoded_genotype, phenotype], axis=1)\n",
    "\n",
    "# Save the PAGER encoded data to a csv file\n",
    "pager_encoded_genotype.to_csv('/Users/ghosha/Documents/VSCode Projects/pager/data/sample_data_disc_pager_encoded.csv', index=False)\n",
    "\n",
    "# Save the missing genotypes dataframe to a csv file\n",
    "missing_genotypes_df.to_csv('/Users/ghosha/Documents/VSCode Projects/pager/data/missing_genotypes.csv', index=False)"
   ]
  }
 ],
 "metadata": {
  "kernelspec": {
   "display_name": "edge_env",
   "language": "python",
   "name": "python3"
  },
  "language_info": {
   "codemirror_mode": {
    "name": "ipython",
    "version": 3
   },
   "file_extension": ".py",
   "mimetype": "text/x-python",
   "name": "python",
   "nbconvert_exporter": "python",
   "pygments_lexer": "ipython3",
   "version": "3.9.16"
  }
 },
 "nbformat": 4,
 "nbformat_minor": 2
}
